{
 "cells": [
  {
   "cell_type": "markdown",
   "metadata": {},
   "source": [
    "# Question:\n",
    "### Find whether factors like lexical diversity and positive sensitive analysis has any effect on favorite count of a tweet?"
   ]
  },
  {
   "cell_type": "markdown",
   "metadata": {},
   "source": [
    "#### Gather the data from three different users"
   ]
  },
  {
   "cell_type": "code",
   "execution_count": 18,
   "metadata": {},
   "outputs": [],
   "source": [
    "from twitter_keys import consumer_key, consumer_secret, access_token, access_secret\n",
    "import tweepy\n",
    "import pickle\n",
    "from collections import Counter\n",
    "import array\n",
    "from nltk.sentiment.vader import SentimentIntensityAnalyzer"
   ]
  },
  {
   "cell_type": "code",
   "execution_count": 20,
   "metadata": {},
   "outputs": [],
   "source": [
    "import nltk\n"
   ]
  },
  {
   "cell_type": "code",
   "execution_count": 21,
   "metadata": {},
   "outputs": [
    {
     "name": "stderr",
     "output_type": "stream",
     "text": [
      "[nltk_data] Downloading package vader_lexicon to\n",
      "[nltk_data]     C:\\Users\\S531438\\AppData\\Roaming\\nltk_data...\n"
     ]
    },
    {
     "data": {
      "text/plain": [
       "True"
      ]
     },
     "execution_count": 21,
     "metadata": {},
     "output_type": "execute_result"
    }
   ],
   "source": [
    "nltk.download('vader_lexicon')\n",
    "  \n"
   ]
  },
  {
   "cell_type": "code",
   "execution_count": 22,
   "metadata": {},
   "outputs": [],
   "source": [
    "analyzer = SentimentIntensityAnalyzer()"
   ]
  },
  {
   "cell_type": "markdown",
   "metadata": {},
   "source": [
    "\n"
   ]
  },
  {
   "cell_type": "code",
   "execution_count": 23,
   "metadata": {},
   "outputs": [],
   "source": [
    "auth = tweepy.OAuthHandler(consumer_key, consumer_secret)\n",
    "auth.set_access_token(access_token, access_secret)\n",
    "api = tweepy.API(auth)"
   ]
  },
  {
   "cell_type": "markdown",
   "metadata": {},
   "source": [
    "\n",
    "  "
   ]
  },
  {
   "cell_type": "code",
   "execution_count": 25,
   "metadata": {},
   "outputs": [],
   "source": [
    "username='imVkohli'\n",
    "username1='KTRTRS'\n",
    "username2='urstrulyMahesh'"
   ]
  },
  {
   "cell_type": "code",
   "execution_count": 27,
   "metadata": {},
   "outputs": [],
   "source": [
    "# Pickle the user1 data\n",
    "user1 = api.user_timeline(username)    \n",
    "with open('kohli.pkl', 'wb') as f:\n",
    "    pickle.dump(user1, f)\n",
    "with open('kohli.pkl', 'rb') as f:\n",
    "    user1 = pickle.load(f)"
   ]
  },
  {
   "cell_type": "code",
   "execution_count": 29,
   "metadata": {},
   "outputs": [],
   "source": [
    "# Pickle the user2 data\n",
    "user2 = api.user_timeline(username1)    \n",
    "with open('KTR.pkl', 'wb') as f:\n",
    "    pickle.dump(user2, f)\n",
    "with open('KTR.pkl', 'rb') as f:\n",
    "    user2 = pickle.load(f)"
   ]
  },
  {
   "cell_type": "code",
   "execution_count": 30,
   "metadata": {},
   "outputs": [],
   "source": [
    "# Pickle the users data\n",
    "user3 = api.user_timeline(username2)    \n",
    "with open('Mahesh.pkl', 'wb') as f:\n",
    "    pickle.dump(user3, f)\n",
    "with open('Mahesh.pkl', 'rb') as f:\n",
    "    user3 = pickle.load(f)"
   ]
  },
  {
   "cell_type": "code",
   "execution_count": 31,
   "metadata": {},
   "outputs": [],
   "source": [
    "#Code to sort a list\n",
    "def Sort(sub_li): \n",
    "    l = len(sub_li) \n",
    "    for i in range(0, l): \n",
    "        for j in range(0, l-i-1): \n",
    "            if (sub_li[j][1] > sub_li[j + 1][1]): \n",
    "                tempo = sub_li[j] \n",
    "                sub_li[j]= sub_li[j + 1] \n",
    "                sub_li[j + 1]= tempo \n",
    "    return sub_li "
   ]
  },
  {
   "cell_type": "markdown",
   "metadata": {},
   "source": [
    "## Gather and display all the data of User1"
   ]
  },
  {
   "cell_type": "code",
   "execution_count": 33,
   "metadata": {},
   "outputs": [
    {
     "name": "stdout",
     "output_type": "stream",
     "text": [
      "User 1 Favourite count, lexical diverssity, sentiment analysis on tweets\n",
      "+----------+----------+----------+---------+-----------+------------------+\n",
      "|   Sno    | Positive | Negative | Neutral | Fav_count | Lexicaldiversity |\n",
      "+==========+==========+==========+=========+===========+==================+\n",
      "| Tweet 1  | 0        | 0.180    | 0.820   | 74175     | 1                |\n",
      "+----------+----------+----------+---------+-----------+------------------+\n",
      "| Tweet 2  | 0.244    | 0        | 0.756   | 68576     | 1                |\n",
      "+----------+----------+----------+---------+-----------+------------------+\n",
      "| Tweet 3  | 0        | 0        | 1       | 228670    | 1                |\n",
      "+----------+----------+----------+---------+-----------+------------------+\n",
      "| Tweet 4  | 0.377    | 0        | 0.623   | 135662    | 1                |\n",
      "+----------+----------+----------+---------+-----------+------------------+\n",
      "| Tweet 5  | 0.248    | 0        | 0.752   | 90965     | 0.909            |\n",
      "+----------+----------+----------+---------+-----------+------------------+\n",
      "| Tweet 6  | 0.366    | 0        | 0.634   | 206041    | 1                |\n",
      "+----------+----------+----------+---------+-----------+------------------+\n",
      "| Tweet 7  | 0        | 0        | 1       | 293597    | 1                |\n",
      "+----------+----------+----------+---------+-----------+------------------+\n",
      "| Tweet 8  | 0.198    | 0        | 0.802   | 286347    | 0.952            |\n",
      "+----------+----------+----------+---------+-----------+------------------+\n",
      "| Tweet 9  | 0        | 0        | 1       | 107738    | 1                |\n",
      "+----------+----------+----------+---------+-----------+------------------+\n",
      "| Tweet 10 | 0.423    | 0        | 0.577   | 0         | 0.955            |\n",
      "+----------+----------+----------+---------+-----------+------------------+\n",
      "| Tweet 11 | 0.496    | 0        | 0.504   | 97617     | 1                |\n",
      "+----------+----------+----------+---------+-----------+------------------+\n",
      "| Tweet 12 | 0        | 0        | 1       | 122039    | 1                |\n",
      "+----------+----------+----------+---------+-----------+------------------+\n",
      "| Tweet 13 | 0.252    | 0        | 0.748   | 194291    | 1                |\n",
      "+----------+----------+----------+---------+-----------+------------------+\n",
      "| Tweet 14 | 0.370    | 0        | 0.630   | 214980    | 1                |\n",
      "+----------+----------+----------+---------+-----------+------------------+\n",
      "| Tweet 15 | 0.483    | 0        | 0.517   | 139436    | 1                |\n",
      "+----------+----------+----------+---------+-----------+------------------+\n",
      "| Tweet 16 | 0.255    | 0        | 0.745   | 31944     | 0.905            |\n",
      "+----------+----------+----------+---------+-----------+------------------+\n",
      "| Tweet 17 | 0        | 0.268    | 0.732   | 132131    | 1                |\n",
      "+----------+----------+----------+---------+-----------+------------------+\n",
      "| Tweet 18 | 0.728    | 0        | 0.272   | 103057    | 1                |\n",
      "+----------+----------+----------+---------+-----------+------------------+\n",
      "| Tweet 19 | 0.439    | 0        | 0.561   | 28800     | 0.875            |\n",
      "+----------+----------+----------+---------+-----------+------------------+\n",
      "| Tweet 20 | 0.482    | 0        | 0.518   | 69941     | 1                |\n",
      "+----------+----------+----------+---------+-----------+------------------+\n",
      "User 1 Favourite count, lexical diverssity, sentiment analysis on tweets\n",
      "+----------+----------+----------+---------+-----------+------------------+\n",
      "|   Sno    | Positive | Negative | Neutral | Fav_count | Lexicaldiversity |\n",
      "+==========+==========+==========+=========+===========+==================+\n",
      "| Tweet 1  | 0        | 0.180    | 0.820   | 74175     | 1                |\n",
      "+----------+----------+----------+---------+-----------+------------------+\n",
      "| Tweet 2  | 0.244    | 0        | 0.756   | 68576     | 1                |\n",
      "+----------+----------+----------+---------+-----------+------------------+\n",
      "| Tweet 3  | 0        | 0        | 1       | 228670    | 1                |\n",
      "+----------+----------+----------+---------+-----------+------------------+\n",
      "| Tweet 4  | 0.377    | 0        | 0.623   | 135662    | 1                |\n",
      "+----------+----------+----------+---------+-----------+------------------+\n",
      "| Tweet 5  | 0.248    | 0        | 0.752   | 90965     | 0.909            |\n",
      "+----------+----------+----------+---------+-----------+------------------+\n",
      "| Tweet 6  | 0.366    | 0        | 0.634   | 206041    | 1                |\n",
      "+----------+----------+----------+---------+-----------+------------------+\n",
      "| Tweet 7  | 0        | 0        | 1       | 293597    | 1                |\n",
      "+----------+----------+----------+---------+-----------+------------------+\n",
      "| Tweet 8  | 0.198    | 0        | 0.802   | 286347    | 0.952            |\n",
      "+----------+----------+----------+---------+-----------+------------------+\n",
      "| Tweet 9  | 0        | 0        | 1       | 107738    | 1                |\n",
      "+----------+----------+----------+---------+-----------+------------------+\n",
      "| Tweet 10 | 0.423    | 0        | 0.577   | 0         | 0.955            |\n",
      "+----------+----------+----------+---------+-----------+------------------+\n",
      "| Tweet 11 | 0.496    | 0        | 0.504   | 97617     | 1                |\n",
      "+----------+----------+----------+---------+-----------+------------------+\n",
      "| Tweet 12 | 0        | 0        | 1       | 122039    | 1                |\n",
      "+----------+----------+----------+---------+-----------+------------------+\n",
      "| Tweet 13 | 0.252    | 0        | 0.748   | 194291    | 1                |\n",
      "+----------+----------+----------+---------+-----------+------------------+\n",
      "| Tweet 14 | 0.370    | 0        | 0.630   | 214980    | 1                |\n",
      "+----------+----------+----------+---------+-----------+------------------+\n",
      "| Tweet 15 | 0.483    | 0        | 0.517   | 139436    | 1                |\n",
      "+----------+----------+----------+---------+-----------+------------------+\n",
      "| Tweet 16 | 0.255    | 0        | 0.745   | 31944     | 0.905            |\n",
      "+----------+----------+----------+---------+-----------+------------------+\n",
      "| Tweet 17 | 0        | 0.268    | 0.732   | 132131    | 1                |\n",
      "+----------+----------+----------+---------+-----------+------------------+\n",
      "| Tweet 18 | 0.728    | 0        | 0.272   | 103057    | 1                |\n",
      "+----------+----------+----------+---------+-----------+------------------+\n",
      "| Tweet 19 | 0.439    | 0        | 0.561   | 28800     | 0.875            |\n",
      "+----------+----------+----------+---------+-----------+------------------+\n",
      "| Tweet 20 | 0.482    | 0        | 0.518   | 69941     | 1                |\n",
      "+----------+----------+----------+---------+-----------+------------------+\n"
     ]
    }
   ],
   "source": [
    "#Step one: Find the favorite count of each tweet of user data and store it in a list\n",
    "user_one_fav_count = []\n",
    "for ktweet in user1:\n",
    "    user_one_fav_count.append(ktweet.favorite_count)\n",
    "\n",
    "user_one_sa_pos = []\n",
    "user_one_sa_neu = []\n",
    "user_one_sa_neg = []\n",
    "user_one_sa_com = []\n",
    "user_one_div = []\n",
    "# Find lexical diversity of each tweet and store it in a list\n",
    "def lexical_diversity(tokens):\n",
    "    return len(set(tokens)) / len(tokens)\n",
    "\n",
    "for ktweet in user1:\n",
    "    user_one_div.append(lexical_diversity(ktweet.text.split()))\n",
    "\n",
    "#Step two: perform sentiment analysis of each tweet\n",
    "# Store positive of sentiment analysis in list\n",
    "from nltk.sentiment.vader import SentimentIntensityAnalyzer\n",
    "analyzer = SentimentIntensityAnalyzer()\n",
    "for ktweet in user1:\n",
    "    user_one_sa_pos.append(analyzer.polarity_scores(ktweet.text)['pos'])\n",
    "    user_one_sa_neg.append(analyzer.polarity_scores(ktweet.text)['neg'])\n",
    "    user_one_sa_neu.append(analyzer.polarity_scores(ktweet.text)['neu'])\n",
    "    user_one_sa_com.append(analyzer.polarity_scores(ktweet.text)['compound'])\n",
    "# Import the required modules\n",
    "import texttable as tt\n",
    "tab = tt.Texttable()\n",
    "# Store the headings in a list \n",
    "headings = ['Sno','Positive','Negative','Neutral','Fav_count','Lexicaldiversity']\n",
    "# Set the header of the table\n",
    "tab.header(headings)\n",
    "names = ['Tweet 1', 'Tweet 2', 'Tweet 3','Tweet 4', 'Tweet 5', 'Tweet 6','Tweet 7', 'Tweet 8', 'Tweet 9','Tweet 10', 'Tweet 11', 'Tweet 12','Tweet 13', 'Tweet 14', 'Tweet 15','Tweet 16', 'Tweet 17','Tweet 18', 'Tweet 19', 'Tweet 20']\n",
    "\n",
    "pos = user_one_sa_pos\n",
    "neg = user_one_sa_neg\n",
    "neu = user_one_sa_neu\n",
    "fav = user_one_fav_count\n",
    "div = user_one_div\n",
    "tab.title = ''\n",
    "# Populate the data in the respective fields\n",
    "for row in zip(names,pos,neg,neu,fav,div):\n",
    "    tab.add_row(row)\n",
    "# Draw the table & display it\n",
    "s = tab.draw()\n",
    "print('User 1 Favourite count, lexical diverssity, sentiment analysis on tweets')\n",
    "print (s)#Step one: Find the favorite count of each tweet of user data and store it in a list\n",
    "user_one_fav_count = []\n",
    "for ktweet in user1:\n",
    "    user_one_fav_count.append(ktweet.favorite_count)\n",
    "\n",
    "user_one_sa_pos = []\n",
    "user_one_sa_neu = []\n",
    "user_one_sa_neg = []\n",
    "user_one_sa_com = []\n",
    "user_one_div = []\n",
    "# Find lexical diversity of each tweet and store it in a list\n",
    "def lexical_diversity(tokens):\n",
    "    return len(set(tokens)) / len(tokens)\n",
    "\n",
    "for ktweet in user1:\n",
    "    user_one_div.append(lexical_diversity(ktweet.text.split()))\n",
    "\n",
    "#Step two: perform sentiment analysis of each tweet\n",
    "# Store positive of sentiment analysis in list\n",
    "from nltk.sentiment.vader import SentimentIntensityAnalyzer\n",
    "analyzer = SentimentIntensityAnalyzer()\n",
    "for ktweet in user1:\n",
    "    user_one_sa_pos.append(analyzer.polarity_scores(ktweet.text)['pos'])\n",
    "    user_one_sa_neg.append(analyzer.polarity_scores(ktweet.text)['neg'])\n",
    "    user_one_sa_neu.append(analyzer.polarity_scores(ktweet.text)['neu'])\n",
    "    user_one_sa_com.append(analyzer.polarity_scores(ktweet.text)['compound'])\n",
    "# Import the required modules\n",
    "import texttable as tt\n",
    "tab = tt.Texttable()\n",
    "# Store the headings in a list \n",
    "headings = ['Sno','Positive','Negative','Neutral','Fav_count','Lexicaldiversity']\n",
    "# Set the header of the table\n",
    "tab.header(headings)\n",
    "names = ['Tweet 1', 'Tweet 2', 'Tweet 3','Tweet 4', 'Tweet 5', 'Tweet 6','Tweet 7', 'Tweet 8', 'Tweet 9','Tweet 10', 'Tweet 11', 'Tweet 12','Tweet 13', 'Tweet 14', 'Tweet 15','Tweet 16', 'Tweet 17','Tweet 18', 'Tweet 19', 'Tweet 20']\n",
    "\n",
    "pos = user_one_sa_pos\n",
    "neg = user_one_sa_neg\n",
    "neu = user_one_sa_neu\n",
    "fav = user_one_fav_count\n",
    "div = user_one_div\n",
    "tab.title = ''\n",
    "# Populate the data in the respective fields\n",
    "for row in zip(names,pos,neg,neu,fav,div):\n",
    "    tab.add_row(row)\n",
    "# Draw the table & display it\n",
    "s = tab.draw()\n",
    "print('User 1 Favourite count, lexical diverssity, sentiment analysis on tweets')\n",
    "print (s)"
   ]
  },
  {
   "cell_type": "code",
   "execution_count": 34,
   "metadata": {},
   "outputs": [
    {
     "name": "stdout",
     "output_type": "stream",
     "text": [
      "User 2 Favourite count, sentiment analysis and lexical diversity on tweets\n",
      "+----------+----------+----------+---------+-----------+------------------+\n",
      "|  Names   | Positive | Negative | Neutral | Fav_count | Lexicaldiversity |\n",
      "+==========+==========+==========+=========+===========+==================+\n",
      "| Tweet 1  | 0.118    | 0        | 0.882   | 0         | 1                |\n",
      "+----------+----------+----------+---------+-----------+------------------+\n",
      "| Tweet 2  | 0.353    | 0        | 0.647   | 864       | 1                |\n",
      "+----------+----------+----------+---------+-----------+------------------+\n",
      "| Tweet 3  | 0.239    | 0        | 0.761   | 0         | 1                |\n",
      "+----------+----------+----------+---------+-----------+------------------+\n",
      "| Tweet 4  | 0.121    | 0.084    | 0.795   | 1768      | 0.952            |\n",
      "+----------+----------+----------+---------+-----------+------------------+\n",
      "| Tweet 5  | 0.592    | 0        | 0.408   | 424       | 1                |\n",
      "+----------+----------+----------+---------+-----------+------------------+\n",
      "| Tweet 6  | 0        | 0        | 1       | 0         | 0.941            |\n",
      "+----------+----------+----------+---------+-----------+------------------+\n",
      "| Tweet 7  | 0.737    | 0        | 0.263   | 1072      | 1                |\n",
      "+----------+----------+----------+---------+-----------+------------------+\n",
      "| Tweet 8  | 0        | 0        | 1       | 3502      | 1                |\n",
      "+----------+----------+----------+---------+-----------+------------------+\n",
      "| Tweet 9  | 0.148    | 0        | 0.852   | 2027      | 1                |\n",
      "+----------+----------+----------+---------+-----------+------------------+\n",
      "| Tweet 10 | 0        | 0        | 1       | 2468      | 1                |\n",
      "+----------+----------+----------+---------+-----------+------------------+\n",
      "| Tweet 11 | 0.238    | 0        | 0.762   | 8068      | 0.900            |\n",
      "+----------+----------+----------+---------+-----------+------------------+\n",
      "| Tweet 12 | 0        | 0        | 1       | 3137      | 1                |\n",
      "+----------+----------+----------+---------+-----------+------------------+\n",
      "| Tweet 13 | 0        | 0        | 1       | 2696      | 1                |\n",
      "+----------+----------+----------+---------+-----------+------------------+\n",
      "| Tweet 14 | 0        | 0.206    | 0.794   | 2802      | 1                |\n",
      "+----------+----------+----------+---------+-----------+------------------+\n",
      "| Tweet 15 | 0        | 0        | 1       | 14585     | 0.957            |\n",
      "+----------+----------+----------+---------+-----------+------------------+\n",
      "| Tweet 16 | 0.277    | 0        | 0.723   | 996       | 0.900            |\n",
      "+----------+----------+----------+---------+-----------+------------------+\n",
      "| Tweet 17 | 0        | 0        | 1       | 2569      | 0.944            |\n",
      "+----------+----------+----------+---------+-----------+------------------+\n",
      "| Tweet 18 | 0        | 0        | 1       | 3573      | 1                |\n",
      "+----------+----------+----------+---------+-----------+------------------+\n",
      "| Tweet 19 | 0        | 0        | 1       | 6224      | 1                |\n",
      "+----------+----------+----------+---------+-----------+------------------+\n",
      "| Tweet 20 | 0.220    | 0        | 0.780   | 3110      | 1                |\n",
      "+----------+----------+----------+---------+-----------+------------------+\n"
     ]
    }
   ],
   "source": [
    "#Step one: Find the favorite count of each tweet of user data and store it in a list\n",
    "user_two_fav_count = []\n",
    "for ktweet in user2:\n",
    "    user_two_fav_count.append(ktweet.favorite_count)\n",
    "\n",
    "user_two_sa_pos = []\n",
    "user_two_sa_neu = []\n",
    "user_two_sa_neg = []\n",
    "user_two_sa_com = []\n",
    "user_two_div = []\n",
    "# Find lexical diversity of each tweet and store it in a list\n",
    "\n",
    "def lexical_diversity(tokens):\n",
    "    return len(set(tokens)) / len(tokens)\n",
    "\n",
    "for ktweet in user2:\n",
    "    user_two_div.append(lexical_diversity(ktweet.text.split()))\n",
    "\n",
    "#Step two: perform sentiment analysis of each tweet\n",
    "# Store positive of sentiment analysis in list\n",
    "from nltk.sentiment.vader import SentimentIntensityAnalyzer\n",
    "analyzer = SentimentIntensityAnalyzer()\n",
    "for ktweet in user2:\n",
    "    user_two_sa_pos.append(analyzer.polarity_scores(ktweet.text)['pos'])\n",
    "    user_two_sa_neg.append(analyzer.polarity_scores(ktweet.text)['neg'])\n",
    "    user_two_sa_neu.append(analyzer.polarity_scores(ktweet.text)['neu'])\n",
    "    user_two_sa_com.append(analyzer.polarity_scores(ktweet.text)['compound'])\n",
    "# For readibility and user convinence, using table to view gathered data\n",
    "# Import the required modules\n",
    "import texttable as tt\n",
    "tab = tt.Texttable()\n",
    "# Store the headings in a list \n",
    "headings = ['Names','Positive','Negative','Neutral','Fav_count','Lexicaldiversity']\n",
    "# Set the header of the table\n",
    "tab.header(headings)\n",
    "names = ['Tweet 1', 'Tweet 2', 'Tweet 3','Tweet 4', 'Tweet 5', 'Tweet 6','Tweet 7', 'Tweet 8', 'Tweet 9','Tweet 10', 'Tweet 11', 'Tweet 12','Tweet 13', 'Tweet 14', 'Tweet 15','Tweet 16', 'Tweet 17','Tweet 18', 'Tweet 19', 'Tweet 20']\n",
    "\n",
    "pos = user_two_sa_pos\n",
    "neg = user_two_sa_neg\n",
    "neu = user_two_sa_neu\n",
    "com = user_two_sa_com\n",
    "fav = user_two_fav_count\n",
    "div = user_two_div\n",
    "tab.title = ''\n",
    "# Populate the data in the respective fields\n",
    "for row in zip(names,pos,neg,neu,fav,div):\n",
    "    tab.add_row(row)\n",
    "# Draw the table & display it\n",
    "s = tab.draw()\n",
    "print('User 2 Favourite count, sentiment analysis and lexical diversity on tweets')\n",
    "\n",
    "print (s)"
   ]
  },
  {
   "cell_type": "code",
   "execution_count": 35,
   "metadata": {},
   "outputs": [
    {
     "name": "stdout",
     "output_type": "stream",
     "text": [
      "User 3 Favourite count and sentiment analysis on tweets\n",
      "+----------+----------+----------+---------+-----------+------------------+\n",
      "|  Names   | Positive | Negative | Neutral | Fav_count | Lexicaldiversity |\n",
      "+==========+==========+==========+=========+===========+==================+\n",
      "| Tweet 1  | 0.394    | 0        | 0.606   | 22471     | 1                |\n",
      "+----------+----------+----------+---------+-----------+------------------+\n",
      "| Tweet 2  | 0.230    | 0        | 0.770   | 30678     | 0.889            |\n",
      "+----------+----------+----------+---------+-----------+------------------+\n",
      "| Tweet 3  | 0.479    | 0        | 0.521   | 43463     | 1                |\n",
      "+----------+----------+----------+---------+-----------+------------------+\n",
      "| Tweet 4  | 0.600    | 0        | 0.400   | 50487     | 1                |\n",
      "+----------+----------+----------+---------+-----------+------------------+\n",
      "| Tweet 5  | 0        | 0        | 1       | 38051     | 1                |\n",
      "+----------+----------+----------+---------+-----------+------------------+\n",
      "| Tweet 6  | 0.187    | 0        | 0.813   | 43930     | 1                |\n",
      "+----------+----------+----------+---------+-----------+------------------+\n",
      "| Tweet 7  | 0.589    | 0        | 0.411   | 58874     | 1                |\n",
      "+----------+----------+----------+---------+-----------+------------------+\n",
      "| Tweet 8  | 0        | 0        | 1       | 79071     | 1                |\n",
      "+----------+----------+----------+---------+-----------+------------------+\n",
      "| Tweet 9  | 0        | 0        | 1       | 62713     | 1                |\n",
      "+----------+----------+----------+---------+-----------+------------------+\n",
      "| Tweet 10 | 0.299    | 0        | 0.701   | 36930     | 1                |\n",
      "+----------+----------+----------+---------+-----------+------------------+\n",
      "| Tweet 11 | 0.582    | 0        | 0.418   | 50995     | 1                |\n",
      "+----------+----------+----------+---------+-----------+------------------+\n",
      "| Tweet 12 | 0        | 0        | 1       | 33457     | 1                |\n",
      "+----------+----------+----------+---------+-----------+------------------+\n",
      "| Tweet 13 | 0.417    | 0        | 0.583   | 48773     | 0.882            |\n",
      "+----------+----------+----------+---------+-----------+------------------+\n",
      "| Tweet 14 | 0        | 0        | 1       | 24944     | 1                |\n",
      "+----------+----------+----------+---------+-----------+------------------+\n",
      "| Tweet 15 | 0.646    | 0        | 0.354   | 56613     | 1                |\n",
      "+----------+----------+----------+---------+-----------+------------------+\n",
      "| Tweet 16 | 0.570    | 0        | 0.430   | 30764     | 1                |\n",
      "+----------+----------+----------+---------+-----------+------------------+\n",
      "| Tweet 17 | 0.291    | 0        | 0.709   | 18231     | 1                |\n",
      "+----------+----------+----------+---------+-----------+------------------+\n",
      "| Tweet 18 | 0.333    | 0        | 0.667   | 48112     | 1                |\n",
      "+----------+----------+----------+---------+-----------+------------------+\n",
      "| Tweet 19 | 0.524    | 0        | 0.476   | 37900     | 1                |\n",
      "+----------+----------+----------+---------+-----------+------------------+\n",
      "| Tweet 20 | 0.545    | 0        | 0.455   | 55642     | 1                |\n",
      "+----------+----------+----------+---------+-----------+------------------+\n"
     ]
    }
   ],
   "source": [
    "#Step one: Find the favorite count of each tweet of user data and store it in a list\n",
    "user_three_fav_count = []\n",
    "for ktweet in user3:\n",
    "    user_three_fav_count.append(ktweet.favorite_count)\n",
    "\n",
    "user_three_sa_pos = []\n",
    "user_three_sa_neu = []\n",
    "user_three_sa_neg = []\n",
    "user_three_sa_com = []\n",
    "user_three_div = []\n",
    "# Find lexical diversity of each tweet and store it in a list\n",
    "\n",
    "def lexical_diversity(tokens):\n",
    "    return len(set(tokens)) / len(tokens)\n",
    "\n",
    "for ktweet in user3:\n",
    "    user_three_div.append(lexical_diversity(ktweet.text.split()))\n",
    "#Step two: perform sentiment analysis of each tweet\n",
    "# Store positive of sentiment analysis in list\n",
    "from nltk.sentiment.vader import SentimentIntensityAnalyzer\n",
    "analyzer = SentimentIntensityAnalyzer()\n",
    "for ktweet in user3:\n",
    "    user_three_sa_pos.append(analyzer.polarity_scores(ktweet.text)['pos'])\n",
    "    user_three_sa_neg.append(analyzer.polarity_scores(ktweet.text)['neg'])\n",
    "    user_three_sa_neu.append(analyzer.polarity_scores(ktweet.text)['neu'])\n",
    "    user_three_sa_com.append(analyzer.polarity_scores(ktweet.text)['compound'])\n",
    "# Import the required modules\n",
    "import texttable as tt\n",
    "tab = tt.Texttable()\n",
    "# Store the headings in a list \n",
    "headings = ['Names','Positive','Negative','Neutral','Fav_count','Lexicaldiversity']\n",
    "# Set the header of the table\n",
    "tab.header(headings)\n",
    "names = ['Tweet 1', 'Tweet 2', 'Tweet 3','Tweet 4', 'Tweet 5', 'Tweet 6','Tweet 7', 'Tweet 8', 'Tweet 9','Tweet 10', 'Tweet 11', 'Tweet 12','Tweet 13', 'Tweet 14', 'Tweet 15','Tweet 16', 'Tweet 17','Tweet 18', 'Tweet 19', 'Tweet 20']\n",
    "\n",
    "pos = user_three_sa_pos\n",
    "neg = user_three_sa_neg\n",
    "neu = user_three_sa_neu\n",
    "com = user_three_sa_com\n",
    "fav = user_three_fav_count\n",
    "div = user_three_div\n",
    "tab.title = ''\n",
    "# Populate the data in the respective fields\n",
    "for row in zip(names,pos,neg,neu,fav,div):\n",
    "    tab.add_row(row)\n",
    "# Draw the table & display it\n",
    "s = tab.draw()\n",
    "print('User 3 Favourite count and sentiment analysis on tweets')\n",
    "print (s)"
   ]
  },
  {
   "cell_type": "markdown",
   "metadata": {},
   "source": [
    "### Find the Relationship between  positive sensitive analysis and Favorite count \n",
    "Gathered tweets and its data from three different users and Visualized the data positive sensitive analysis vs favorite count of tweets using scatter graph\n",
    "#### Compare the graphs of three users"
   ]
  },
  {
   "cell_type": "code",
   "execution_count": 51,
   "metadata": {},
   "outputs": [
    {
     "data": {
      "image/png": "[encoded data removed]",
      "text/plain": [
       "<Figure size 432x288 with 1 Axes>"
      ]
     },
     "metadata": {
      "needs_background": "light"
     },
     "output_type": "display_data"
    }
   ],
   "source": [
    "import numpy as np\n",
    "import matplotlib.pyplot as plt\n",
    "import numpy as np\n",
    "# user1 code to bar graph of positive sensitive analysis vs favorite count\n",
    "import matplotlib.pyplot as plt\n",
    "\n",
    "y = user_one_fav_count\n",
    "x = user_one_sa_pos\n",
    "\n",
    "plt.scatter(x,y,label='user1', color='G', s=100, marker=\"o\")\n",
    "plt.xlim(0,1)\n",
    "plt.xlabel('Positivity', fontsize=12,fontweight='bold')\n",
    "plt.ylabel('Favorite count', fontsize=12,fontweight='bold')\n",
    "plt.title(' User 1 :  Postive Sentiment Analysis vs Favorite Count',fontsize=16,fontweight='bold')\n",
    "plt.legend()\n",
    "plt.show()\n"
   ]
  },
  {
   "cell_type": "code",
   "execution_count": 54,
   "metadata": {},
   "outputs": [
    {
     "data": {
      "image/png": "[encoded data removed]",
      "text/plain": [
       "<Figure size 432x288 with 1 Axes>"
      ]
     },
     "metadata": {
      "needs_background": "light"
     },
     "output_type": "display_data"
    }
   ],
   "source": [
    "# user 2 code to bar graph of positive sensitive analysis vs favorite count\n",
    "import matplotlib.pyplot as plt\n",
    "\n",
    "y = user_two_fav_count\n",
    "x = user_two_sa_pos\n",
    "\n",
    "plt.scatter(x,y,label='user2', color='g', s=100, marker=\"o\")\n",
    "plt.xlim(0,1)\n",
    "plt.xlabel('Positivity', fontsize=12,fontweight='bold')\n",
    "plt.ylabel('Favorite count', fontsize=12,fontweight='bold')\n",
    "plt.title(' User 2 :  Postive Sentiment Analysis vs Favorite Count',fontsize=16,fontweight='bold')\n",
    "plt.legend()\n",
    "plt.show()"
   ]
  },
  {
   "cell_type": "code",
   "execution_count": 39,
   "metadata": {},
   "outputs": [
    {
     "data": {
      "image/png": "[encoded data removed]",
      "text/plain": [
       "<Figure size 432x288 with 1 Axes>"
      ]
     },
     "metadata": {
      "needs_background": "light"
     },
     "output_type": "display_data"
    }
   ],
   "source": [
    "\n",
    "# user 3 code to bar graph of positive sensitive analysis vs favorite count\n",
    "import matplotlib.pyplot as plt\n",
    "\n",
    "y = user_three_fav_count\n",
    "x = user_three_sa_pos\n",
    "\n",
    "plt.scatter(x,y,label='user3', color='g', s=100, marker=\"o\")\n",
    "plt.xlim(0,1)\n",
    "plt.xlabel('Positivity', fontsize=12,fontweight='bold')\n",
    "plt.ylabel('Favorite count', fontsize=12,fontweight='bold')\n",
    "plt.title(' User 3 :  Postive Sentiment Analysis vs Favorite Count',fontsize=16,fontweight='bold')\n",
    "plt.legend()\n",
    "plt.show()"
   ]
  },
  {
   "cell_type": "code",
   "execution_count": 40,
   "metadata": {},
   "outputs": [
    {
     "data": {
      "image/png": "[encoded data removed]",
      "text/plain": [
       "<Figure size 432x288 with 1 Axes>"
      ]
     },
     "metadata": {
      "needs_background": "light"
     },
     "output_type": "display_data"
    }
   ],
   "source": [
    "# import the required modules\n",
    "import matplotlib.pyplot as plt\n",
    "# plot the bar graph\n",
    "y1 = user_one_fav_count\n",
    "x1 = user_one_div\n",
    "y2 = user_two_fav_count\n",
    "x2 = user_two_div\n",
    "y3 = user_three_fav_count\n",
    "x3 = user_three_div\n",
    "plt.scatter(x1,y1,label='user1', color='b', s=75, marker=\"o\")\n",
    "plt.scatter(x2,y2,label='user2', color='R', s=75, marker=\"o\")\n",
    "plt.scatter(x3,y3,label='user3', color='g', s=75, marker=\"o\")\n",
    "# title and label the graph\n",
    "plt.legend()\n",
    "plt.xlabel('Lexical diversity',fontweight='bold')\n",
    "plt.ylabel('Favorite count',fontweight='bold')\n",
    "\n",
    "plt.title('Lexical diversity vs Favorite count',fontsize='16',fontweight='bold')\n",
    "\n",
    "plt.show()"
   ]
  },
  {
   "cell_type": "code",
   "execution_count": null,
   "metadata": {},
   "outputs": [],
   "source": []
  }
 ],
 "metadata": {
  "kernelspec": {
   "display_name": "Python 3",
   "language": "python",
   "name": "python3"
  },
  "language_info": {
   "codemirror_mode": {
    "name": "ipython",
    "version": 3
   },
   "file_extension": ".py",
   "mimetype": "text/x-python",
   "name": "python",
   "nbconvert_exporter": "python",
   "pygments_lexer": "ipython3",
   "version": "3.7.3"
  }
 },
 "nbformat": 4,
 "nbformat_minor": 2
}
