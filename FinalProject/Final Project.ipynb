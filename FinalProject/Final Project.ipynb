{
 "cells": [
  {
   "cell_type": "markdown",
   "metadata": {},
   "source": [
    "# Question:\n",
    "### Find whether factors like lexical diversity and positive sensitive analysis has any effect on favorite count of a tweet?"
   ]
  },
  {
   "cell_type": "markdown",
   "metadata": {},
   "source": [
    "Gather the information from the 3 different users i have taken the users of a sports person, a politician and a movie actor."
   ]
  },
  {
   "cell_type": "code",
   "execution_count": 1,
   "metadata": {},
   "outputs": [],
   "source": [
    "from twitter_keys import consumer_key, consumer_secret, access_token, access_secret\n",
    "import tweepy\n",
    "import pickle\n",
    "from collections import Counter\n",
    "import array\n",
    "from nltk.sentiment.vader import SentimentIntensityAnalyzer"
   ]
  },
  {
   "cell_type": "code",
   "execution_count": 2,
   "metadata": {},
   "outputs": [],
   "source": [
    "import nltk\n"
   ]
  },
  {
   "cell_type": "code",
   "execution_count": 3,
   "metadata": {},
   "outputs": [
    {
     "name": "stderr",
     "output_type": "stream",
     "text": [
      "[nltk_data] Downloading package vader_lexicon to\n",
      "[nltk_data]     C:\\Users\\S531438\\AppData\\Roaming\\nltk_data...\n",
      "[nltk_data]   Package vader_lexicon is already up-to-date!\n"
     ]
    },
    {
     "data": {
      "text/plain": [
       "True"
      ]
     },
     "execution_count": 3,
     "metadata": {},
     "output_type": "execute_result"
    }
   ],
   "source": [
    "nltk.download('vader_lexicon')\n",
    "  \n"
   ]
  },
  {
   "cell_type": "code",
   "execution_count": 4,
   "metadata": {},
   "outputs": [],
   "source": [
    "analyzer = SentimentIntensityAnalyzer()"
   ]
  },
  {
   "cell_type": "code",
   "execution_count": 5,
   "metadata": {},
   "outputs": [],
   "source": [
    "auth = tweepy.OAuthHandler(consumer_key, consumer_secret)\n",
    "auth.set_access_token(access_token, access_secret)\n",
    "api = tweepy.API(auth)"
   ]
  },
  {
   "cell_type": "code",
   "execution_count": 6,
   "metadata": {},
   "outputs": [],
   "source": [
    "username='imVkohli'\n",
    "username1='KTRTRS'\n",
    "username2='urstrulyMahesh'"
   ]
  },
  {
   "cell_type": "code",
   "execution_count": 7,
   "metadata": {},
   "outputs": [],
   "source": [
    "# Pickle the kohli(user01) data from the twitter\n",
    "\n",
    "user1 = api.user_timeline(username)    \n",
    "with open('kohli.pkl', 'wb') as f:\n",
    "    pickle.dump(user1, f)\n",
    "with open('kohli.pkl', 'rb') as f:\n",
    "    user1 = pickle.load(f)"
   ]
  },
  {
   "cell_type": "code",
   "execution_count": 8,
   "metadata": {},
   "outputs": [],
   "source": [
    "# Pickle the Ktr(user02) data from the twitter\n",
    "\n",
    "user2 = api.user_timeline(username1)    \n",
    "with open('KTR.pkl', 'wb') as f:\n",
    "    pickle.dump(user2, f)\n",
    "with open('KTR.pkl', 'rb') as f:\n",
    "    user2 = pickle.load(f)"
   ]
  },
  {
   "cell_type": "code",
   "execution_count": 9,
   "metadata": {},
   "outputs": [],
   "source": [
    "# Pickle the mahesh(user03) data from the twitter\n",
    "\n",
    "user3 = api.user_timeline(username2)    \n",
    "with open('Mahesh.pkl', 'wb') as f:\n",
    "    pickle.dump(user3, f)\n",
    "with open('Mahesh.pkl', 'rb') as f:\n",
    "    user3 = pickle.load(f)"
   ]
  },
  {
   "cell_type": "code",
   "execution_count": 10,
   "metadata": {},
   "outputs": [],
   "source": [
    "#sort a list\n",
    "def Sort(sub_li): \n",
    "    l = len(sub_li) \n",
    "    for i in range(0, l): \n",
    "        for j in range(0, l-i-1): \n",
    "            if (sub_li[j][1] > sub_li[j + 1][1]): \n",
    "                tempo = sub_li[j] \n",
    "                sub_li[j]= sub_li[j + 1] \n",
    "                sub_li[j + 1]= tempo \n",
    "    return sub_li "
   ]
  },
  {
   "cell_type": "markdown",
   "metadata": {},
   "source": [
    "## Gather and display all the data of User1"
   ]
  },
  {
   "cell_type": "code",
   "execution_count": 11,
   "metadata": {
    "scrolled": true
   },
   "outputs": [
    {
     "name": "stdout",
     "output_type": "stream",
     "text": [
      "User 1 Favourite count, lexical diverssity, sentiment analysis on tweets\n",
      "+----------+----------+----------+---------+-----------+------------------+\n",
      "|   Sno    | Positive | Negative | Neutral | Fav_count | Lexicaldiversity |\n",
      "+==========+==========+==========+=========+===========+==================+\n",
      "| Tweet 1  | 0.373    | 0        | 0.627   | 83497     | 0.917            |\n",
      "+----------+----------+----------+---------+-----------+------------------+\n",
      "| Tweet 2  | 0        | 0        | 1       | 71773     | 1                |\n",
      "+----------+----------+----------+---------+-----------+------------------+\n",
      "| Tweet 3  | 0        | 0        | 1       | 213343    | 1                |\n",
      "+----------+----------+----------+---------+-----------+------------------+\n",
      "| Tweet 4  | 0.447    | 0        | 0.553   | 157552    | 1                |\n",
      "+----------+----------+----------+---------+-----------+------------------+\n",
      "| Tweet 5  | 0.157    | 0        | 0.843   | 233380    | 1                |\n",
      "+----------+----------+----------+---------+-----------+------------------+\n",
      "| Tweet 6  | 0        | 0        | 1       | 141509    | 1                |\n",
      "+----------+----------+----------+---------+-----------+------------------+\n",
      "| Tweet 7  | 0.272    | 0        | 0.728   | 43076     | 0.952            |\n",
      "+----------+----------+----------+---------+-----------+------------------+\n",
      "| Tweet 8  | 0        | 0.180    | 0.820   | 180369    | 1                |\n",
      "+----------+----------+----------+---------+-----------+------------------+\n",
      "| Tweet 9  | 0.244    | 0        | 0.756   | 92283     | 1                |\n",
      "+----------+----------+----------+---------+-----------+------------------+\n",
      "| Tweet 10 | 0        | 0        | 1       | 238124    | 1                |\n",
      "+----------+----------+----------+---------+-----------+------------------+\n",
      "| Tweet 11 | 0.377    | 0        | 0.623   | 140340    | 1                |\n",
      "+----------+----------+----------+---------+-----------+------------------+\n",
      "| Tweet 12 | 0.248    | 0        | 0.752   | 93468     | 0.909            |\n",
      "+----------+----------+----------+---------+-----------+------------------+\n",
      "| Tweet 13 | 0.366    | 0        | 0.634   | 212342    | 1                |\n",
      "+----------+----------+----------+---------+-----------+------------------+\n",
      "| Tweet 14 | 0        | 0        | 1       | 297280    | 1                |\n",
      "+----------+----------+----------+---------+-----------+------------------+\n",
      "| Tweet 15 | 0.198    | 0        | 0.802   | 287816    | 0.952            |\n",
      "+----------+----------+----------+---------+-----------+------------------+\n",
      "| Tweet 16 | 0        | 0        | 1       | 109131    | 1                |\n",
      "+----------+----------+----------+---------+-----------+------------------+\n",
      "| Tweet 17 | 0.423    | 0        | 0.577   | 0         | 0.955            |\n",
      "+----------+----------+----------+---------+-----------+------------------+\n",
      "| Tweet 18 | 0.496    | 0        | 0.504   | 98523     | 1                |\n",
      "+----------+----------+----------+---------+-----------+------------------+\n",
      "| Tweet 19 | 0        | 0        | 1       | 123099    | 1                |\n",
      "+----------+----------+----------+---------+-----------+------------------+\n",
      "| Tweet 20 | 0.252    | 0        | 0.748   | 195536    | 1                |\n",
      "+----------+----------+----------+---------+-----------+------------------+\n",
      "kohli Favourite count, lexical diverssity, sentiment analysis on tweets\n",
      "+----------+----------+----------+---------+-----------+------------------+\n",
      "|   Sno    | Positive | Negative | Neutral | Fav_count | Lexicaldiversity |\n",
      "+==========+==========+==========+=========+===========+==================+\n",
      "| Tweet 1  | 0.373    | 0        | 0.627   | 83497     | 0.917            |\n",
      "+----------+----------+----------+---------+-----------+------------------+\n",
      "| Tweet 2  | 0        | 0        | 1       | 71773     | 1                |\n",
      "+----------+----------+----------+---------+-----------+------------------+\n",
      "| Tweet 3  | 0        | 0        | 1       | 213343    | 1                |\n",
      "+----------+----------+----------+---------+-----------+------------------+\n",
      "| Tweet 4  | 0.447    | 0        | 0.553   | 157552    | 1                |\n",
      "+----------+----------+----------+---------+-----------+------------------+\n",
      "| Tweet 5  | 0.157    | 0        | 0.843   | 233380    | 1                |\n",
      "+----------+----------+----------+---------+-----------+------------------+\n",
      "| Tweet 6  | 0        | 0        | 1       | 141509    | 1                |\n",
      "+----------+----------+----------+---------+-----------+------------------+\n",
      "| Tweet 7  | 0.272    | 0        | 0.728   | 43076     | 0.952            |\n",
      "+----------+----------+----------+---------+-----------+------------------+\n",
      "| Tweet 8  | 0        | 0.180    | 0.820   | 180369    | 1                |\n",
      "+----------+----------+----------+---------+-----------+------------------+\n",
      "| Tweet 9  | 0.244    | 0        | 0.756   | 92283     | 1                |\n",
      "+----------+----------+----------+---------+-----------+------------------+\n",
      "| Tweet 10 | 0        | 0        | 1       | 238124    | 1                |\n",
      "+----------+----------+----------+---------+-----------+------------------+\n",
      "| Tweet 11 | 0.377    | 0        | 0.623   | 140340    | 1                |\n",
      "+----------+----------+----------+---------+-----------+------------------+\n",
      "| Tweet 12 | 0.248    | 0        | 0.752   | 93468     | 0.909            |\n",
      "+----------+----------+----------+---------+-----------+------------------+\n",
      "| Tweet 13 | 0.366    | 0        | 0.634   | 212342    | 1                |\n",
      "+----------+----------+----------+---------+-----------+------------------+\n",
      "| Tweet 14 | 0        | 0        | 1       | 297280    | 1                |\n",
      "+----------+----------+----------+---------+-----------+------------------+\n",
      "| Tweet 15 | 0.198    | 0        | 0.802   | 287816    | 0.952            |\n",
      "+----------+----------+----------+---------+-----------+------------------+\n",
      "| Tweet 16 | 0        | 0        | 1       | 109131    | 1                |\n",
      "+----------+----------+----------+---------+-----------+------------------+\n",
      "| Tweet 17 | 0.423    | 0        | 0.577   | 0         | 0.955            |\n",
      "+----------+----------+----------+---------+-----------+------------------+\n",
      "| Tweet 18 | 0.496    | 0        | 0.504   | 98523     | 1                |\n",
      "+----------+----------+----------+---------+-----------+------------------+\n",
      "| Tweet 19 | 0        | 0        | 1       | 123099    | 1                |\n",
      "+----------+----------+----------+---------+-----------+------------------+\n",
      "| Tweet 20 | 0.252    | 0        | 0.748   | 195536    | 1                |\n",
      "+----------+----------+----------+---------+-----------+------------------+\n"
     ]
    }
   ],
   "source": [
    "#Step1: Find the favorite count of each tweet of user data and store it in a list which was already created above\n",
    "\n",
    "user_one_fav_count = []\n",
    "for ktweet in user1:\n",
    "    user_one_fav_count.append(ktweet.favorite_count)\n",
    "\n",
    "user_one_sa_pos = []\n",
    "user_one_sa_neu = []\n",
    "user_one_sa_neg = []\n",
    "user_one_sa_com = []\n",
    "user_one_div = []\n",
    "\n",
    "# Find lexical diversity of each tweet and store it in a list\n",
    "\n",
    "def lexical_diversity(tokens):\n",
    "    return len(set(tokens)) / len(tokens)\n",
    "\n",
    "for ktweet in user1:\n",
    "    user_one_div.append(lexical_diversity(ktweet.text.split()))\n",
    "\n",
    "#Step2: perform sentiment analysis of each tweet\n",
    "\n",
    "# Store positive of sentiment analysis in list\n",
    "\n",
    "from nltk.sentiment.vader import SentimentIntensityAnalyzer\n",
    "analyzer = SentimentIntensityAnalyzer()\n",
    "for ktweet in user1:\n",
    "    user_one_sa_pos.append(analyzer.polarity_scores(ktweet.text)['pos'])\n",
    "    user_one_sa_neg.append(analyzer.polarity_scores(ktweet.text)['neg'])\n",
    "    user_one_sa_neu.append(analyzer.polarity_scores(ktweet.text)['neu'])\n",
    "    user_one_sa_com.append(analyzer.polarity_scores(ktweet.text)['compound'])\n",
    "    \n",
    "# Import the required modules\n",
    "import texttable as tt\n",
    "tab = tt.Texttable()\n",
    "# Store the headings in a list \n",
    "\n",
    "headings = ['Sno','Positive','Negative','Neutral','Fav_count','Lexicaldiversity']\n",
    "# headings of the table\n",
    "tab.header(headings)\n",
    "\n",
    "names = ['Tweet 1', 'Tweet 2', 'Tweet 3','Tweet 4', 'Tweet 5', 'Tweet 6','Tweet 7', 'Tweet 8', 'Tweet 9','Tweet 10', 'Tweet 11', 'Tweet 12','Tweet 13', 'Tweet 14', 'Tweet 15','Tweet 16', 'Tweet 17','Tweet 18', 'Tweet 19', 'Tweet 20']\n",
    "\n",
    "pos = user_one_sa_pos\n",
    "neg = user_one_sa_neg\n",
    "neu = user_one_sa_neu\n",
    "fav = user_one_fav_count\n",
    "div = user_one_div\n",
    "tab.title = ''\n",
    "\n",
    "# Populate the data in the respective fields\n",
    "for row in zip(names,pos,neg,neu,fav,div):\n",
    "    tab.add_row(row)\n",
    "    \n",
    "# Draw the table & display it\n",
    "s = tab.draw()\n",
    "print('User 1 Favourite count, lexical diverssity, sentiment analysis on tweets')\n",
    "print (s)#Step one: Find the favorite count of each tweet of user data and store it in a list\n",
    "user_one_fav_count = []\n",
    "for ktweet in user1:\n",
    "    user_one_fav_count.append(ktweet.favorite_count)\n",
    "\n",
    "user_one_sa_pos = []\n",
    "user_one_sa_neu = []\n",
    "user_one_sa_neg = []\n",
    "user_one_sa_com = []\n",
    "user_one_div = []\n",
    "# Find lexical diversity of each tweet and store it in a list\n",
    "def lexical_diversity(tokens):\n",
    "    return len(set(tokens)) / len(tokens)\n",
    "\n",
    "for ktweet in user1:\n",
    "    user_one_div.append(lexical_diversity(ktweet.text.split()))\n",
    "\n",
    "#Step two: perform sentiment analysis of each tweet\n",
    "# Store positive of sentiment analysis in list\n",
    "from nltk.sentiment.vader import SentimentIntensityAnalyzer\n",
    "analyzer = SentimentIntensityAnalyzer()\n",
    "for ktweet in user1:\n",
    "    user_one_sa_pos.append(analyzer.polarity_scores(ktweet.text)['pos'])\n",
    "    user_one_sa_neg.append(analyzer.polarity_scores(ktweet.text)['neg'])\n",
    "    user_one_sa_neu.append(analyzer.polarity_scores(ktweet.text)['neu'])\n",
    "    user_one_sa_com.append(analyzer.polarity_scores(ktweet.text)['compound'])\n",
    "    \n",
    "# Import the required modules\n",
    "import texttable as tt\n",
    "tab = tt.Texttable()\n",
    "# Store the headings in a list \n",
    "headings = ['Sno','Positive','Negative','Neutral','Fav_count','Lexicaldiversity']\n",
    "# Set the header of the table\n",
    "tab.header(headings)\n",
    "names = ['Tweet 1', 'Tweet 2', 'Tweet 3','Tweet 4', 'Tweet 5', 'Tweet 6','Tweet 7', 'Tweet 8', 'Tweet 9','Tweet 10', 'Tweet 11', 'Tweet 12','Tweet 13', 'Tweet 14', 'Tweet 15','Tweet 16', 'Tweet 17','Tweet 18', 'Tweet 19', 'Tweet 20']\n",
    "\n",
    "pos = user_one_sa_pos\n",
    "neg = user_one_sa_neg\n",
    "neu = user_one_sa_neu\n",
    "fav = user_one_fav_count\n",
    "div = user_one_div\n",
    "tab.title = ''\n",
    "# Populate the data in the respective fields\n",
    "for row in zip(names,pos,neg,neu,fav,div):\n",
    "    tab.add_row(row)\n",
    "# Draw the table & display it\n",
    "s = tab.draw()\n",
    "print('kohli Favourite count, lexical diverssity, sentiment analysis on tweets')\n",
    "print (s)"
   ]
  },
  {
   "cell_type": "code",
   "execution_count": 12,
   "metadata": {},
   "outputs": [
    {
     "name": "stdout",
     "output_type": "stream",
     "text": [
      "KTR Favourite count, sentiment analysis and lexical diversity on tweets\n",
      "+----------+----------+----------+---------+-----------+------------------+\n",
      "|  Names   | Positive | Negative | Neutral | Fav_count | Lexicaldiversity |\n",
      "+==========+==========+==========+=========+===========+==================+\n",
      "| Tweet 1  | 0.474    | 0        | 0.526   | 5222      | 1                |\n",
      "+----------+----------+----------+---------+-----------+------------------+\n",
      "| Tweet 2  | 0.089    | 0.236    | 0.675   | 11129     | 0.952            |\n",
      "+----------+----------+----------+---------+-----------+------------------+\n",
      "| Tweet 3  | 0        | 0        | 1       | 0         | 1                |\n",
      "+----------+----------+----------+---------+-----------+------------------+\n",
      "| Tweet 4  | 0.303    | 0        | 0.697   | 1531      | 0.947            |\n",
      "+----------+----------+----------+---------+-----------+------------------+\n",
      "| Tweet 5  | 0        | 0        | 1       | 0         | 0.933            |\n",
      "+----------+----------+----------+---------+-----------+------------------+\n",
      "| Tweet 6  | 0        | 0        | 1       | 0         | 1                |\n",
      "+----------+----------+----------+---------+-----------+------------------+\n",
      "| Tweet 7  | 0.264    | 0        | 0.736   | 2218      | 0.952            |\n",
      "+----------+----------+----------+---------+-----------+------------------+\n",
      "| Tweet 8  | 0.252    | 0        | 0.748   | 5665      | 1                |\n",
      "+----------+----------+----------+---------+-----------+------------------+\n",
      "| Tweet 9  | 0.171    | 0        | 0.829   | 1531      | 0.947            |\n",
      "+----------+----------+----------+---------+-----------+------------------+\n",
      "| Tweet 10 | 0        | 0        | 1       | 1905      | 0.909            |\n",
      "+----------+----------+----------+---------+-----------+------------------+\n",
      "| Tweet 11 | 0.382    | 0        | 0.618   | 2935      | 1                |\n",
      "+----------+----------+----------+---------+-----------+------------------+\n",
      "| Tweet 12 | 0.388    | 0        | 0.612   | 1041      | 0.955            |\n",
      "+----------+----------+----------+---------+-----------+------------------+\n",
      "| Tweet 13 | 0.418    | 0        | 0.582   | 2205      | 1                |\n",
      "+----------+----------+----------+---------+-----------+------------------+\n",
      "| Tweet 14 | 0.271    | 0        | 0.729   | 3050      | 1                |\n",
      "+----------+----------+----------+---------+-----------+------------------+\n",
      "| Tweet 15 | 0.353    | 0        | 0.647   | 1677      | 1                |\n",
      "+----------+----------+----------+---------+-----------+------------------+\n",
      "| Tweet 16 | 0.121    | 0.084    | 0.795   | 3026      | 0.952            |\n",
      "+----------+----------+----------+---------+-----------+------------------+\n",
      "| Tweet 17 | 0.592    | 0        | 0.408   | 573       | 1                |\n",
      "+----------+----------+----------+---------+-----------+------------------+\n",
      "| Tweet 18 | 0.737    | 0        | 0.263   | 1171      | 1                |\n",
      "+----------+----------+----------+---------+-----------+------------------+\n",
      "| Tweet 19 | 0        | 0        | 1       | 3653      | 1                |\n",
      "+----------+----------+----------+---------+-----------+------------------+\n",
      "| Tweet 20 | 0.148    | 0        | 0.852   | 2098      | 1                |\n",
      "+----------+----------+----------+---------+-----------+------------------+\n"
     ]
    }
   ],
   "source": [
    "#Step1: Find the favorite count of each tweet of user data and store it in a list which was already created above\n",
    "user_two_fav_count = []\n",
    "for ktweet in user2:\n",
    "    user_two_fav_count.append(ktweet.favorite_count)\n",
    "\n",
    "user_two_sa_pos = []\n",
    "user_two_sa_neu = []\n",
    "user_two_sa_neg = []\n",
    "user_two_sa_com = []\n",
    "user_two_div = []\n",
    "\n",
    "# Find lexical diversity of each tweet and store it in a list\n",
    "\n",
    "def lexical_diversity(tokens):\n",
    "    return len(set(tokens)) / len(tokens)\n",
    "\n",
    "for ktweet in user2:\n",
    "    user_two_div.append(lexical_diversity(ktweet.text.split()))\n",
    "\n",
    "#Step2: perform sentiment analysis of each tweet and Store positive of sentiment analysis in list\n",
    "\n",
    "from nltk.sentiment.vader import SentimentIntensityAnalyzer\n",
    "analyzer = SentimentIntensityAnalyzer()\n",
    "for ktweet in user2:\n",
    "    user_two_sa_pos.append(analyzer.polarity_scores(ktweet.text)['pos'])\n",
    "    user_two_sa_neg.append(analyzer.polarity_scores(ktweet.text)['neg'])\n",
    "    user_two_sa_neu.append(analyzer.polarity_scores(ktweet.text)['neu'])\n",
    "    user_two_sa_com.append(analyzer.polarity_scores(ktweet.text)['compound'])\n",
    "    \n",
    "# Import the required modules\n",
    "import texttable as tt\n",
    "tab = tt.Texttable()\n",
    "\n",
    "\n",
    "# Store the headings in a list \n",
    "headings = ['Names','Positive','Negative','Neutral','Fav_count','Lexicaldiversity']\n",
    "\n",
    "# Set the header of the table\n",
    "tab.header(headings)\n",
    "names = ['Tweet 1', 'Tweet 2', 'Tweet 3','Tweet 4', 'Tweet 5', 'Tweet 6','Tweet 7', 'Tweet 8', 'Tweet 9','Tweet 10', 'Tweet 11', 'Tweet 12','Tweet 13', 'Tweet 14', 'Tweet 15','Tweet 16', 'Tweet 17','Tweet 18', 'Tweet 19', 'Tweet 20']\n",
    "\n",
    "pos = user_two_sa_pos\n",
    "neg = user_two_sa_neg\n",
    "neu = user_two_sa_neu\n",
    "com = user_two_sa_com\n",
    "fav = user_two_fav_count\n",
    "div = user_two_div\n",
    "tab.title = ''\n",
    "# Populate the data in the respective fields\n",
    "for row in zip(names,pos,neg,neu,fav,div):\n",
    "    tab.add_row(row)\n",
    "# Draw the table and display\n",
    "s = tab.draw()\n",
    "print('KTR Favourite count, sentiment analysis and lexical diversity on tweets')\n",
    "\n",
    "print (s)"
   ]
  },
  {
   "cell_type": "code",
   "execution_count": 13,
   "metadata": {
    "scrolled": true
   },
   "outputs": [
    {
     "name": "stdout",
     "output_type": "stream",
     "text": [
      "mahesh Favourite count and sentiment analysis on tweets\n",
      "+----------+----------+----------+---------+-----------+------------------+\n",
      "|  Names   | Positive | Negative | Neutral | Fav_count | Lexicaldiversity |\n",
      "+==========+==========+==========+=========+===========+==================+\n",
      "| Tweet 1  | 0.394    | 0        | 0.606   | 35343     | 1                |\n",
      "+----------+----------+----------+---------+-----------+------------------+\n",
      "| Tweet 2  | 0.230    | 0        | 0.770   | 32273     | 0.889            |\n",
      "+----------+----------+----------+---------+-----------+------------------+\n",
      "| Tweet 3  | 0.479    | 0        | 0.521   | 44375     | 1                |\n",
      "+----------+----------+----------+---------+-----------+------------------+\n",
      "| Tweet 4  | 0.600    | 0        | 0.400   | 51051     | 1                |\n",
      "+----------+----------+----------+---------+-----------+------------------+\n",
      "| Tweet 5  | 0        | 0        | 1       | 38449     | 1                |\n",
      "+----------+----------+----------+---------+-----------+------------------+\n",
      "| Tweet 6  | 0.187    | 0        | 0.813   | 44270     | 1                |\n",
      "+----------+----------+----------+---------+-----------+------------------+\n",
      "| Tweet 7  | 0.589    | 0        | 0.411   | 59120     | 1                |\n",
      "+----------+----------+----------+---------+-----------+------------------+\n",
      "| Tweet 8  | 0        | 0        | 1       | 79331     | 1                |\n",
      "+----------+----------+----------+---------+-----------+------------------+\n",
      "| Tweet 9  | 0        | 0        | 1       | 62976     | 1                |\n",
      "+----------+----------+----------+---------+-----------+------------------+\n",
      "| Tweet 10 | 0.299    | 0        | 0.701   | 37155     | 1                |\n",
      "+----------+----------+----------+---------+-----------+------------------+\n",
      "| Tweet 11 | 0.582    | 0        | 0.418   | 51122     | 1                |\n",
      "+----------+----------+----------+---------+-----------+------------------+\n",
      "| Tweet 12 | 0        | 0        | 1       | 33595     | 1                |\n",
      "+----------+----------+----------+---------+-----------+------------------+\n",
      "| Tweet 13 | 0.417    | 0        | 0.583   | 48782     | 0.882            |\n",
      "+----------+----------+----------+---------+-----------+------------------+\n",
      "| Tweet 14 | 0        | 0        | 1       | 25014     | 1                |\n",
      "+----------+----------+----------+---------+-----------+------------------+\n",
      "| Tweet 15 | 0.646    | 0        | 0.354   | 56671     | 1                |\n",
      "+----------+----------+----------+---------+-----------+------------------+\n",
      "| Tweet 16 | 0.570    | 0        | 0.430   | 30786     | 1                |\n",
      "+----------+----------+----------+---------+-----------+------------------+\n",
      "| Tweet 17 | 0.291    | 0        | 0.709   | 18257     | 1                |\n",
      "+----------+----------+----------+---------+-----------+------------------+\n",
      "| Tweet 18 | 0.333    | 0        | 0.667   | 48131     | 1                |\n",
      "+----------+----------+----------+---------+-----------+------------------+\n",
      "| Tweet 19 | 0.524    | 0        | 0.476   | 37906     | 1                |\n",
      "+----------+----------+----------+---------+-----------+------------------+\n",
      "| Tweet 20 | 0.545    | 0        | 0.455   | 55630     | 1                |\n",
      "+----------+----------+----------+---------+-----------+------------------+\n"
     ]
    }
   ],
   "source": [
    "#Step one: Find the favorite count of each tweet of user data and store it in a list\n",
    "user_three_fav_count = []\n",
    "for ktweet in user3:\n",
    "    user_three_fav_count.append(ktweet.favorite_count)\n",
    "\n",
    "user_three_sa_pos = []\n",
    "user_three_sa_neu = []\n",
    "user_three_sa_neg = []\n",
    "user_three_sa_com = []\n",
    "user_three_div = []\n",
    "\n",
    "# Find lexical diversity of each tweet and store it in a list\n",
    "\n",
    "def lexical_diversity(tokens):\n",
    "    return len(set(tokens)) / len(tokens)\n",
    "\n",
    "for ktweet in user3:\n",
    "    user_three_div.append(lexical_diversity(ktweet.text.split()))\n",
    "    \n",
    "#Step two: perform sentiment analysis of each tweet\n",
    "# Store positive of sentiment analysis in list\n",
    "from nltk.sentiment.vader import SentimentIntensityAnalyzer\n",
    "analyzer = SentimentIntensityAnalyzer()\n",
    "for ktweet in user3:\n",
    "    user_three_sa_pos.append(analyzer.polarity_scores(ktweet.text)['pos'])\n",
    "    user_three_sa_neg.append(analyzer.polarity_scores(ktweet.text)['neg'])\n",
    "    user_three_sa_neu.append(analyzer.polarity_scores(ktweet.text)['neu'])\n",
    "    user_three_sa_com.append(analyzer.polarity_scores(ktweet.text)['compound'])\n",
    "# Import the required modules\n",
    "import texttable as tt\n",
    "tab = tt.Texttable()\n",
    "# Store the headings in a list \n",
    "headings = ['Names','Positive','Negative','Neutral','Fav_count','Lexicaldiversity']\n",
    "# Set the header of the table\n",
    "tab.header(headings)\n",
    "names = ['Tweet 1', 'Tweet 2', 'Tweet 3','Tweet 4', 'Tweet 5', 'Tweet 6','Tweet 7', 'Tweet 8', 'Tweet 9','Tweet 10', 'Tweet 11', 'Tweet 12','Tweet 13', 'Tweet 14', 'Tweet 15','Tweet 16', 'Tweet 17','Tweet 18', 'Tweet 19', 'Tweet 20']\n",
    "\n",
    "pos = user_three_sa_pos\n",
    "neg = user_three_sa_neg\n",
    "neu = user_three_sa_neu\n",
    "com = user_three_sa_com\n",
    "fav = user_three_fav_count\n",
    "div = user_three_div\n",
    "tab.title = ''\n",
    "# Populate the data in the respective fields\n",
    "for row in zip(names,pos,neg,neu,fav,div):\n",
    "    tab.add_row(row)\n",
    "# Draw the table & display it\n",
    "s = tab.draw()\n",
    "print('mahesh Favourite count and sentiment analysis on tweets')\n",
    "print (s)"
   ]
  },
  {
   "cell_type": "markdown",
   "metadata": {},
   "source": [
    "### Find the Relationship between  positive sensitive analysis and Favorite count of the 3 users.\n",
    "Gathered tweets and its data from three different users and Visualized the data positive sensitive analysis vs favorite count of tweets using scatter graph and compare the graphs of the three users.\n"
   ]
  },
  {
   "cell_type": "code",
   "execution_count": 18,
   "metadata": {},
   "outputs": [
    {
     "data": {
      "image/png": "[encoded data removed]",
      "text/plain": [
       "<Figure size 432x288 with 1 Axes>"
      ]
     },
     "metadata": {
      "needs_background": "light"
     },
     "output_type": "display_data"
    }
   ],
   "source": [
    "import numpy as np\n",
    "import matplotlib.pyplot as plt\n",
    "import numpy as np\n",
    "# user1 code to  graph of positive sensitive analysis vs favorite count\n",
    "import matplotlib.pyplot as plt\n",
    "\n",
    "y = user_one_fav_count\n",
    "x = user_one_sa_pos\n",
    "\n",
    "plt.scatter(x,y,label='kohli', color='B', s=100, marker=\"o\")\n",
    "plt.xlim(0,1)\n",
    "plt.xlabel('Positivity', fontsize=12,fontweight='bold')\n",
    "plt.ylabel('Favorite count', fontsize=12,fontweight='bold')\n",
    "plt.title(' User 1 :  Postive Sentiment Analysis vs Favorite Count',fontsize=16,fontweight='bold')\n",
    "plt.legend()\n",
    "plt.show()\n"
   ]
  },
  {
   "cell_type": "code",
   "execution_count": 15,
   "metadata": {},
   "outputs": [
    {
     "data": {
      "image/png": "[encoded data removed]",
      "text/plain": [
       "<Figure size 432x288 with 1 Axes>"
      ]
     },
     "metadata": {
      "needs_background": "light"
     },
     "output_type": "display_data"
    }
   ],
   "source": [
    "# user 2 code to  graph of positive sensitive analysis vs favorite count\n",
    "import matplotlib.pyplot as plt\n",
    "\n",
    "y = user_two_fav_count\n",
    "x = user_two_sa_pos\n",
    "\n",
    "plt.scatter(x,y,label='KTR', color='R', s=100, marker=\"o\")\n",
    "plt.xlim(0,1)\n",
    "plt.xlabel('Positivity', fontsize=12,fontweight='bold')\n",
    "plt.ylabel('Favorite count', fontsize=12,fontweight='bold')\n",
    "plt.title(' KTR :  Postive Sentiment Analysis vs Favorite Count',fontsize=16,fontweight='bold')\n",
    "plt.legend()\n",
    "plt.show()"
   ]
  },
  {
   "cell_type": "code",
   "execution_count": 16,
   "metadata": {},
   "outputs": [
    {
     "data": {
      "image/png": "[encoded data removed]",
      "text/plain": [
       "<Figure size 432x288 with 1 Axes>"
      ]
     },
     "metadata": {
      "needs_background": "light"
     },
     "output_type": "display_data"
    }
   ],
   "source": [
    "\n",
    "# user 3 code to  graph of positive sensitive analysis vs favorite count\n",
    "import matplotlib.pyplot as plt\n",
    "\n",
    "y = user_three_fav_count\n",
    "x = user_three_sa_pos\n",
    "\n",
    "plt.scatter(x,y,label='mahesh', color='G', s=100, marker=\"o\")\n",
    "plt.xlim(0,1)\n",
    "plt.xlabel('Positivity', fontsize=12,fontweight='bold')\n",
    "plt.ylabel('Favorite count', fontsize=12,fontweight='bold')\n",
    "plt.title(' User 3 :  Postive Sentiment Analysis vs Favorite Count',fontsize=16,fontweight='bold')\n",
    "plt.legend()\n",
    "plt.show()"
   ]
  },
  {
   "attachments": {},
   "cell_type": "markdown",
   "metadata": {},
   "source": [
    "#Conclusion : \n",
    "Based on graph of Positive Sentiment Analysis vs Favorite count, we can state that having a high positivity of the tweets doesn’t rely to have a high favorite count..\n"
   ]
  },
  {
   "cell_type": "code",
   "execution_count": 17,
   "metadata": {},
   "outputs": [
    {
     "data": {
      "image/png": "[encoded data removed]",
      "text/plain": [
       "<Figure size 432x288 with 1 Axes>"
      ]
     },
     "metadata": {
      "needs_background": "light"
     },
     "output_type": "display_data"
    }
   ],
   "source": [
    "# import the required modules\n",
    "import matplotlib.pyplot as plt\n",
    "\n",
    "y1 = user_one_fav_count\n",
    "x1 = user_one_div\n",
    "y2 = user_two_fav_count\n",
    "x2 = user_two_div\n",
    "y3 = user_three_fav_count\n",
    "x3 = user_three_div\n",
    "plt.scatter(x1,y1,label='kohli', color='b', s=75, marker=\"o\")\n",
    "plt.scatter(x2,y2,label='KTR', color='R', s=75, marker=\"o\")\n",
    "plt.scatter(x3,y3,label='mahesh', color='g', s=75, marker=\"o\")\n",
    "# title and label the graph\n",
    "plt.legend()\n",
    "plt.xlabel('Lexical diversity',fontweight='bold')\n",
    "plt.ylabel('Favorite count',fontweight='bold')\n",
    "\n",
    "plt.title('Lexical diversity vs Favorite count',fontsize='16',fontweight='bold')\n",
    "\n",
    "plt.show()"
   ]
  },
  {
   "attachments": {},
   "cell_type": "markdown",
   "metadata": {},
   "source": [
    "#Conclusion:  The second Comparison i.e. Lexical Diversity vs Favorite Count , on an average we could observe that tweets made by kohli has high favorite count than KTR and Mahesh Tweets because of his high lexical diversity in tweets.\n",
    "So by observing both the comparison we could conclude that tweets having good lexical diversity in the tweets can create an effect on the favorite count rather than the Positivity in the tweet..\n"
   ]
  }
 ],
 "metadata": {
  "kernelspec": {
   "display_name": "Python 3",
   "language": "python",
   "name": "python3"
  },
  "language_info": {
   "codemirror_mode": {
    "name": "ipython",
    "version": 3
   },
   "file_extension": ".py",
   "mimetype": "text/x-python",
   "name": "python",
   "nbconvert_exporter": "python",
   "pygments_lexer": "ipython3",
   "version": "3.7.3"
  }
 },
 "nbformat": 4,
 "nbformat_minor": 2
}
